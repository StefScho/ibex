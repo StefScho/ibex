{
 "cells": [
  {
   "cell_type": "markdown",
   "metadata": {
    "collapsed": true
   },
   "source": [
    "# Confidence Intervals In The Digits Dataset"
   ]
  },
  {
   "cell_type": "markdown",
   "metadata": {},
   "source": [
    "This notebook illustrates finding confidence intervals in the Digits dataset.\n",
    "\n",
    "The main point it shows is using ``pandas`` structures throughout the code, as well as the ease of creating pipelines using the ``|`` operator."
   ]
  },
  {
   "cell_type": "markdown",
   "metadata": {},
   "source": [
    "## Loading The Data "
   ]
  },
  {
   "cell_type": "markdown",
   "metadata": {},
   "source": [
    "First we load the dataset into a ``pandas.DataFrame``."
   ]
  },
  {
   "cell_type": "code",
   "execution_count": 88,
   "metadata": {
    "ExecuteTime": {
     "end_time": "2017-07-27T10:56:13.336165Z",
     "start_time": "2017-07-27T10:56:12.535570Z"
    }
   },
   "outputs": [
    {
     "name": "stdout",
     "output_type": "stream",
     "text": [
      "Populating the interactive namespace from numpy and matplotlib\n"
     ]
    },
    {
     "name": "stderr",
     "output_type": "stream",
     "text": [
      "/usr/local/lib/python3.5/dist-packages/IPython/core/magics/pylab.py:160: UserWarning: pylab import has clobbered these variables: ['clf', 'sample']\n",
      "`%matplotlib` prevents importing * from pylab and numpy\n",
      "  \"\\n`%matplotlib` prevents importing * from pylab and numpy\"\n"
     ]
    }
   ],
   "source": [
    "import pandas as pd\n",
    "import numpy as np\n",
    "from sklearn import datasets\n",
    "import seaborn as sns\n",
    "sns.set_style('whitegrid')\n",
    "from smart_progress import progressbar\n",
    "\n",
    "from ibex.sklearn import decomposition as pd_decomposition\n",
    "from ibex.sklearn import linear_model as pd_linear_model\n",
    "from ibex.sklearn import model_selection as pd_model_selection\n",
    "\n",
    "%pylab inline"
   ]
  },
  {
   "cell_type": "code",
   "execution_count": 89,
   "metadata": {},
   "outputs": [
    {
     "data": {
      "text/html": [
       "<div>\n",
       "<table border=\"1\" class=\"dataframe\">\n",
       "  <thead>\n",
       "    <tr style=\"text-align: right;\">\n",
       "      <th></th>\n",
       "      <th>index</th>\n",
       "      <th>f0</th>\n",
       "      <th>f1</th>\n",
       "      <th>f2</th>\n",
       "      <th>f3</th>\n",
       "      <th>f4</th>\n",
       "      <th>f5</th>\n",
       "      <th>f6</th>\n",
       "      <th>f7</th>\n",
       "      <th>f8</th>\n",
       "      <th>...</th>\n",
       "      <th>f55</th>\n",
       "      <th>f56</th>\n",
       "      <th>f57</th>\n",
       "      <th>f58</th>\n",
       "      <th>f59</th>\n",
       "      <th>f60</th>\n",
       "      <th>f61</th>\n",
       "      <th>f62</th>\n",
       "      <th>f63</th>\n",
       "      <th>digit</th>\n",
       "    </tr>\n",
       "  </thead>\n",
       "  <tbody>\n",
       "    <tr>\n",
       "      <th>0</th>\n",
       "      <td>1407</td>\n",
       "      <td>0</td>\n",
       "      <td>0</td>\n",
       "      <td>14</td>\n",
       "      <td>16</td>\n",
       "      <td>16</td>\n",
       "      <td>16</td>\n",
       "      <td>2</td>\n",
       "      <td>0</td>\n",
       "      <td>0</td>\n",
       "      <td>...</td>\n",
       "      <td>0</td>\n",
       "      <td>0</td>\n",
       "      <td>1</td>\n",
       "      <td>15</td>\n",
       "      <td>11</td>\n",
       "      <td>4</td>\n",
       "      <td>0</td>\n",
       "      <td>0</td>\n",
       "      <td>0</td>\n",
       "      <td>5</td>\n",
       "    </tr>\n",
       "    <tr>\n",
       "      <th>1</th>\n",
       "      <td>1271</td>\n",
       "      <td>0</td>\n",
       "      <td>1</td>\n",
       "      <td>3</td>\n",
       "      <td>15</td>\n",
       "      <td>15</td>\n",
       "      <td>2</td>\n",
       "      <td>0</td>\n",
       "      <td>0</td>\n",
       "      <td>2</td>\n",
       "      <td>...</td>\n",
       "      <td>0</td>\n",
       "      <td>0</td>\n",
       "      <td>0</td>\n",
       "      <td>4</td>\n",
       "      <td>15</td>\n",
       "      <td>16</td>\n",
       "      <td>14</td>\n",
       "      <td>0</td>\n",
       "      <td>0</td>\n",
       "      <td>8</td>\n",
       "    </tr>\n",
       "    <tr>\n",
       "      <th>2</th>\n",
       "      <td>1764</td>\n",
       "      <td>0</td>\n",
       "      <td>0</td>\n",
       "      <td>0</td>\n",
       "      <td>3</td>\n",
       "      <td>13</td>\n",
       "      <td>7</td>\n",
       "      <td>0</td>\n",
       "      <td>0</td>\n",
       "      <td>0</td>\n",
       "      <td>...</td>\n",
       "      <td>0</td>\n",
       "      <td>0</td>\n",
       "      <td>0</td>\n",
       "      <td>0</td>\n",
       "      <td>2</td>\n",
       "      <td>15</td>\n",
       "      <td>4</td>\n",
       "      <td>0</td>\n",
       "      <td>0</td>\n",
       "      <td>4</td>\n",
       "    </tr>\n",
       "    <tr>\n",
       "      <th>3</th>\n",
       "      <td>181</td>\n",
       "      <td>0</td>\n",
       "      <td>1</td>\n",
       "      <td>12</td>\n",
       "      <td>14</td>\n",
       "      <td>10</td>\n",
       "      <td>0</td>\n",
       "      <td>0</td>\n",
       "      <td>0</td>\n",
       "      <td>0</td>\n",
       "      <td>...</td>\n",
       "      <td>0</td>\n",
       "      <td>0</td>\n",
       "      <td>0</td>\n",
       "      <td>10</td>\n",
       "      <td>15</td>\n",
       "      <td>13</td>\n",
       "      <td>9</td>\n",
       "      <td>4</td>\n",
       "      <td>0</td>\n",
       "      <td>2</td>\n",
       "    </tr>\n",
       "    <tr>\n",
       "      <th>4</th>\n",
       "      <td>219</td>\n",
       "      <td>0</td>\n",
       "      <td>1</td>\n",
       "      <td>12</td>\n",
       "      <td>12</td>\n",
       "      <td>13</td>\n",
       "      <td>8</td>\n",
       "      <td>1</td>\n",
       "      <td>0</td>\n",
       "      <td>0</td>\n",
       "      <td>...</td>\n",
       "      <td>0</td>\n",
       "      <td>0</td>\n",
       "      <td>2</td>\n",
       "      <td>14</td>\n",
       "      <td>16</td>\n",
       "      <td>10</td>\n",
       "      <td>1</td>\n",
       "      <td>0</td>\n",
       "      <td>0</td>\n",
       "      <td>3</td>\n",
       "    </tr>\n",
       "  </tbody>\n",
       "</table>\n",
       "<p>5 rows × 66 columns</p>\n",
       "</div>"
      ],
      "text/plain": [
       "   index  f0  f1  f2  f3  f4  f5  f6  f7  f8  ...    f55  f56  f57  f58  f59  \\\n",
       "0   1407   0   0  14  16  16  16   2   0   0  ...      0    0    1   15   11   \n",
       "1   1271   0   1   3  15  15   2   0   0   2  ...      0    0    0    4   15   \n",
       "2   1764   0   0   0   3  13   7   0   0   0  ...      0    0    0    0    2   \n",
       "3    181   0   1  12  14  10   0   0   0   0  ...      0    0    0   10   15   \n",
       "4    219   0   1  12  12  13   8   1   0   0  ...      0    0    2   14   16   \n",
       "\n",
       "   f60  f61  f62  f63  digit  \n",
       "0    4    0    0    0      5  \n",
       "1   16   14    0    0      8  \n",
       "2   15    4    0    0      4  \n",
       "3   13    9    4    0      2  \n",
       "4   10    1    0    0      3  \n",
       "\n",
       "[5 rows x 66 columns]"
      ]
     },
     "execution_count": 89,
     "metadata": {},
     "output_type": "execute_result"
    }
   ],
   "source": [
    "digits = datasets.load_digits()\n",
    "features = ['f%d' % i for i in range(digits['data'].shape[1])]\n",
    "digits = pd.DataFrame(\n",
    "    np.c_[digits['data'], digits['target']], \n",
    "    columns=features+['digit'])\n",
    "digits = digits.sample(frac=0.1).reset_index()\n",
    "digits.head()"
   ]
  },
  {
   "cell_type": "markdown",
   "metadata": {},
   "source": [
    "## Explained Variance Per Number Of Features"
   ]
  },
  {
   "cell_type": "markdown",
   "metadata": {},
   "source": [
    "Let's plot the explained variance ratio of PCA as a function of the number of components."
   ]
  },
  {
   "cell_type": "code",
   "execution_count": 90,
   "metadata": {
    "collapsed": true
   },
   "outputs": [],
   "source": [
    "pca = pd_decomposition.PCA()"
   ]
  },
  {
   "cell_type": "code",
   "execution_count": 91,
   "metadata": {},
   "outputs": [
    {
     "data": {
      "image/png": "[encoded data removed]",
      "text/plain": [
       "<matplotlib.figure.Figure at 0x7f52f6613978>"
      ]
     },
     "metadata": {},
     "output_type": "display_data"
    }
   ],
   "source": [
    "ratios = pca.fit(digits[features]).explained_variance_ratio_\n",
    "plot(ratios, color='black');\n",
    "xlabel('Number Of Components');\n",
    "ylabel('Explained Variance Ratio');\n",
    "figtext(\n",
    "    0, \n",
    "    -0.1, \n",
    "    'Explained variance ratio as a number of PCA components.');"
   ]
  },
  {
   "cell_type": "markdown",
   "metadata": {},
   "source": [
    "The plot seems smooth, indicating that the results are accurate. Let's verify this with bootstrapping, though."
   ]
  },
  {
   "cell_type": "code",
   "execution_count": 92,
   "metadata": {},
   "outputs": [],
   "source": [
    "b = 1000\n",
    "\n",
    "all_ratios = []\n",
    "for _ in range(b):\n",
    "    sample = digits[features].sample(len(digits), replace=True)\n",
    "    all_ratios.append(pca.fit(sample).explained_variance_ratio_)\n",
    "all_ratios = pd.DataFrame(variance_ratios)"
   ]
  },
  {
   "cell_type": "code",
   "execution_count": 93,
   "metadata": {},
   "outputs": [
    {
     "data": {
      "image/png": "[encoded data removed]",
      "text/plain": [
       "<matplotlib.figure.Figure at 0x7f52f5726fd0>"
      ]
     },
     "metadata": {},
     "output_type": "display_data"
    }
   ],
   "source": [
    "plot(range(len(features)), ratios, color='black');\n",
    "fill_between(\n",
    "    range(len(features)),\n",
    "    all_ratios.quantile(0.95), \n",
    "    all_ratios.quantile(0.05),\n",
    "    color='grey');\n",
    "xlabel('Number Of Components');\n",
    "ylabel('Explained Variance Ratio');\n",
    "figtext(\n",
    "    0, \n",
    "    -0.1, \n",
    "    'Explained variance ratio as a number of PCA components. The (narrow) confidence interval bands' + \\\n",
    "        'show explained variance is accurate.');"
   ]
  },
  {
   "cell_type": "markdown",
   "metadata": {},
   "source": [
    "## Finding The Prediction Score"
   ]
  },
  {
   "cell_type": "markdown",
   "metadata": {},
   "source": [
    "Following the sickit-learn example, we now pipe the PCA step to a logistic regressor."
   ]
  },
  {
   "cell_type": "code",
   "execution_count": 104,
   "metadata": {
    "collapsed": true
   },
   "outputs": [],
   "source": [
    "clf = pd_linear_model.LogisticRegression()"
   ]
  },
  {
   "cell_type": "markdown",
   "metadata": {},
   "source": [
    "We now find the optimal fit parameters using grid-search CV."
   ]
  },
  {
   "cell_type": "code",
   "execution_count": 121,
   "metadata": {},
   "outputs": [
    {
     "data": {
      "text/plain": [
       "GridSearchCV(cv=None, error_score=None, estimator=None, fit_params=None,\n",
       "       iid=None, n_jobs=None, param_grid=None, pre_dispatch=None,\n",
       "       refit=None, return_train_score=None, scoring=None, verbose=None)"
      ]
     },
     "execution_count": 121,
     "metadata": {},
     "output_type": "execute_result"
    }
   ],
   "source": [
    "from ibex.sklearn.model_selection import GridSearchCV as PDGridSearchCV\n",
    "\n",
    "\n",
    "estimator = PDGridSearchCV(                                                 \n",
    "    clf,                                                                    \n",
    "    {'pca__n_components': [20, 40, 64], 'logisticregression__C': np.logspace(-4, 4, 3)})\n",
    "\n",
    "estimator.fit(digits[features], digits.digit) "
   ]
  },
  {
   "cell_type": "markdown",
   "metadata": {},
   "source": [
    "It is interesting to look at the best parameters and the best score:"
   ]
  },
  {
   "cell_type": "code",
   "execution_count": 133,
   "metadata": {},
   "outputs": [
    {
     "data": {
      "text/plain": [
       "(20, 1.0)"
      ]
     },
     "execution_count": 133,
     "metadata": {},
     "output_type": "execute_result"
    }
   ],
   "source": [
    "params = estimator._cv.best_estimator_.get_params()\n",
    "params['pca__n_components'], params['logisticregression__C']"
   ]
  },
  {
   "cell_type": "code",
   "execution_count": 124,
   "metadata": {},
   "outputs": [
    {
     "data": {
      "text/plain": [
       "0.8833333333333333"
      ]
     },
     "execution_count": 124,
     "metadata": {},
     "output_type": "execute_result"
    }
   ],
   "source": [
    "estimator._cv.best_score_"
   ]
  },
  {
   "cell_type": "markdown",
   "metadata": {},
   "source": [
    "However, how significant is the improvement in the score?\n",
    "\n",
    "Using the parameters found in the grid-search CV, we perform 1000 jacknife (leave 15% out) iterations."
   ]
  },
  {
   "cell_type": "code",
   "execution_count": null,
   "metadata": {},
   "outputs": [],
   "source": [
    "b = 1000\n",
    "\n",
    "clf = estimator.best_estimator_\n",
    "\n",
    "all_scores = []\n",
    "for _ in range(b):\n",
    "    tr = digits.sample(replace=False, frac=0.85)\n",
    "    te = digits.ix[[i for i in digits.index if i not in tr.index]]\n",
    "    all_scores.append(\n",
    "        clf.fit(tr[features], tr.digit).score(te[features], te.digit))\n",
    "    \n",
    "sns.boxplot(x=all_scores, color='grey', orient='v');\n",
    "ylabel('classification score (mismatch)')\n",
    "figtext(\n",
    "    0, \n",
    "    -0.1, \n",
    "    'Classification scores for optimized-parameter PCA followed by logistic-regression.');"
   ]
  },
  {
   "cell_type": "markdown",
   "metadata": {},
   "source": [
    "Using just logistic regression (which is much faster), we do the same."
   ]
  },
  {
   "cell_type": "code",
   "execution_count": 129,
   "metadata": {},
   "outputs": [
    {
     "data": {
      "image/png": "[encoded data removed]",
      "text/plain": [
       "<matplotlib.figure.Figure at 0x7f52f7bd1860>"
      ]
     },
     "metadata": {},
     "output_type": "display_data"
    }
   ],
   "source": [
    "clf = pd_linear_model.LogisticRegression()\n",
    "\n",
    "b = 1000\n",
    "\n",
    "all_scores = []\n",
    "for _ in range(b):\n",
    "    tr = digits.sample(replace=False, frac=0.85)\n",
    "    te = digits.ix[[i for i in digits.index if i not in tr.index]]\n",
    "    all_scores.append(\n",
    "        clf.fit(tr[features], tr.digit).score(te[features], te.digit))\n",
    "\n",
    "sns.boxplot(x=all_scores, color='grey', orient='v');\n",
    "ylabel('classification score (mismatch)')\n",
    "figtext(\n",
    "    0, \n",
    "    -0.1, \n",
    "    'Classification scores for logistic-regression. The results do not seem significantly worse than the optimized-params' + \n",
    "        'PCA followed by logistic regression');"
   ]
  }
 ],
 "metadata": {
  "ibex_test_level": "2",
  "kernelspec": {
   "display_name": "Python 3",
   "language": "python",
   "name": "python3"
  },
  "language_info": {
   "codemirror_mode": {
    "name": "ipython",
    "version": 3
   },
   "file_extension": ".py",
   "mimetype": "text/x-python",
   "name": "python",
   "nbconvert_exporter": "python",
   "pygments_lexer": "ipython3",
   "version": "3.5.2"
  }
 },
 "nbformat": 4,
 "nbformat_minor": 2
}
