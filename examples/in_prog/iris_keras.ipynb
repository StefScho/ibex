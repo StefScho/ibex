{
 "cells": [
  {
   "cell_type": "markdown",
   "metadata": {
    "collapsed": true
   },
   "source": [
    "# Iris Keras"
   ]
  },
  {
   "cell_type": "markdown",
   "metadata": {},
   "source": [
    "## Loading The Data "
   ]
  },
  {
   "cell_type": "markdown",
   "metadata": {},
   "source": [
    "First we load the dataset into a ``pandas.DataFrame``."
   ]
  },
  {
   "cell_type": "code",
   "execution_count": 15,
   "metadata": {
    "ExecuteTime": {
     "end_time": "2017-07-27T10:56:13.336165Z",
     "start_time": "2017-07-27T10:56:12.535570Z"
    }
   },
   "outputs": [
    {
     "name": "stdout",
     "output_type": "stream",
     "text": [
      "Populating the interactive namespace from numpy and matplotlib\n"
     ]
    }
   ],
   "source": [
    "import pandas as pd\n",
    "import numpy as np\n",
    "from sklearn import datasets\n",
    "from sklearn.model_selection import KFold, cross_val_score\n",
    "import tensorflow\n",
    "import seaborn as sns\n",
    "sns.set_style('whitegrid')\n",
    "\n",
    "from ibex.sklearn import ensemble as pd_ensemble\n",
    "\n",
    "%pylab inline"
   ]
  },
  {
   "cell_type": "code",
   "execution_count": 2,
   "metadata": {
    "ExecuteTime": {
     "end_time": "2017-07-27T10:56:13.358455Z",
     "start_time": "2017-07-27T10:56:13.337808Z"
    }
   },
   "outputs": [
    {
     "data": {
      "text/html": [
       "<div>\n",
       "<style>\n",
       "    .dataframe thead tr:only-child th {\n",
       "        text-align: right;\n",
       "    }\n",
       "\n",
       "    .dataframe thead th {\n",
       "        text-align: left;\n",
       "    }\n",
       "\n",
       "    .dataframe tbody tr th {\n",
       "        vertical-align: top;\n",
       "    }\n",
       "</style>\n",
       "<table border=\"1\" class=\"dataframe\">\n",
       "  <thead>\n",
       "    <tr style=\"text-align: right;\">\n",
       "      <th></th>\n",
       "      <th>sepal length (cm)</th>\n",
       "      <th>sepal width (cm)</th>\n",
       "      <th>petal length (cm)</th>\n",
       "      <th>petal width (cm)</th>\n",
       "      <th>class</th>\n",
       "    </tr>\n",
       "  </thead>\n",
       "  <tbody>\n",
       "    <tr>\n",
       "      <th>0</th>\n",
       "      <td>5.1</td>\n",
       "      <td>3.5</td>\n",
       "      <td>1.4</td>\n",
       "      <td>0.2</td>\n",
       "      <td>0.0</td>\n",
       "    </tr>\n",
       "    <tr>\n",
       "      <th>1</th>\n",
       "      <td>4.9</td>\n",
       "      <td>3.0</td>\n",
       "      <td>1.4</td>\n",
       "      <td>0.2</td>\n",
       "      <td>0.0</td>\n",
       "    </tr>\n",
       "    <tr>\n",
       "      <th>2</th>\n",
       "      <td>4.7</td>\n",
       "      <td>3.2</td>\n",
       "      <td>1.3</td>\n",
       "      <td>0.2</td>\n",
       "      <td>0.0</td>\n",
       "    </tr>\n",
       "    <tr>\n",
       "      <th>3</th>\n",
       "      <td>4.6</td>\n",
       "      <td>3.1</td>\n",
       "      <td>1.5</td>\n",
       "      <td>0.2</td>\n",
       "      <td>0.0</td>\n",
       "    </tr>\n",
       "    <tr>\n",
       "      <th>4</th>\n",
       "      <td>5.0</td>\n",
       "      <td>3.6</td>\n",
       "      <td>1.4</td>\n",
       "      <td>0.2</td>\n",
       "      <td>0.0</td>\n",
       "    </tr>\n",
       "  </tbody>\n",
       "</table>\n",
       "</div>"
      ],
      "text/plain": [
       "   sepal length (cm)  sepal width (cm)  petal length (cm)  petal width (cm)  \\\n",
       "0                5.1               3.5                1.4               0.2   \n",
       "1                4.9               3.0                1.4               0.2   \n",
       "2                4.7               3.2                1.3               0.2   \n",
       "3                4.6               3.1                1.5               0.2   \n",
       "4                5.0               3.6                1.4               0.2   \n",
       "\n",
       "   class  \n",
       "0    0.0  \n",
       "1    0.0  \n",
       "2    0.0  \n",
       "3    0.0  \n",
       "4    0.0  "
      ]
     },
     "execution_count": 2,
     "metadata": {},
     "output_type": "execute_result"
    }
   ],
   "source": [
    "iris = datasets.load_iris()\n",
    "features = iris['feature_names']\n",
    "iris = pd.DataFrame(\n",
    "    np.c_[iris['data'], iris['target']], \n",
    "    columns=features+['class'])\n",
    "iris.head()"
   ]
  },
  {
   "cell_type": "markdown",
   "metadata": {},
   "source": [
    "\n",
    "## Keras"
   ]
  },
  {
   "cell_type": "code",
   "execution_count": 4,
   "metadata": {
    "collapsed": true
   },
   "outputs": [],
   "source": [
    "from ibex.tensorflow.contrib.keras.wrappers.scikit_learn import KerasClassifier as PdKerasClassifier"
   ]
  },
  {
   "cell_type": "code",
   "execution_count": 9,
   "metadata": {},
   "outputs": [
    {
     "data": {
      "text/plain": [
       "<tensorflow.contrib.keras.python.keras.models.Sequential at 0x1188a36d8>"
      ]
     },
     "execution_count": 9,
     "metadata": {},
     "output_type": "execute_result"
    }
   ],
   "source": [
    "def buid_nn():\n",
    "    np.random.seed(7)\n",
    "    model = tensorflow.contrib.keras.models.Sequential()\n",
    "    model.add(tensorflow.contrib.keras.layers.Dense(8, input_dim=4, activation='relu'))\n",
    "    model.add(tensorflow.contrib.keras.layers.Dense(3, activation='softmax'))\n",
    "    model.compile(loss='categorical_crossentropy', optimizer='adam', metrics=['accuracy'])\n",
    "    return model\n",
    "\n",
    "buid_nn()"
   ]
  },
  {
   "cell_type": "code",
   "execution_count": 11,
   "metadata": {},
   "outputs": [],
   "source": [
    "estimator = PdKerasClassifier(build_fn=buid_nn, classes=iris['class'].unique())"
   ]
  },
  {
   "cell_type": "code",
   "execution_count": 13,
   "metadata": {},
   "outputs": [
    {
     "name": "stdout",
     "output_type": "stream",
     "text": [
      "Epoch 1/10\n",
      "150/150 [==============================] - 0s - loss: 1.6038 - acc: 0.1000     \n",
      "Epoch 2/10\n",
      "150/150 [==============================] - 0s - loss: 1.5499 - acc: 0.2400     \n",
      "Epoch 3/10\n",
      "150/150 [==============================] - 0s - loss: 1.4961 - acc: 0.2733     \n",
      "Epoch 4/10\n",
      "150/150 [==============================] - 0s - loss: 1.4514 - acc: 0.3200     \n",
      "Epoch 5/10\n",
      "150/150 [==============================] - 0s - loss: 1.4094 - acc: 0.3333     \n",
      "Epoch 6/10\n",
      "150/150 [==============================] - 0s - loss: 1.3679 - acc: 0.3400     \n",
      "Epoch 7/10\n",
      "150/150 [==============================] - 0s - loss: 1.3318 - acc: 0.3400     \n",
      "Epoch 8/10\n",
      "150/150 [==============================] - 0s - loss: 1.2973 - acc: 0.3400     \n",
      "Epoch 9/10\n",
      "150/150 [==============================] - 0s - loss: 1.2649 - acc: 0.3400     \n",
      "Epoch 10/10\n",
      "150/150 [==============================] - 0s - loss: 1.2353 - acc: 0.3333     \n"
     ]
    },
    {
     "data": {
      "text/plain": [
       "0      2.0\n",
       "1      2.0\n",
       "2      2.0\n",
       "3      2.0\n",
       "4      2.0\n",
       "5      2.0\n",
       "6      2.0\n",
       "7      2.0\n",
       "8      2.0\n",
       "9      2.0\n",
       "10     2.0\n",
       "11     2.0\n",
       "12     2.0\n",
       "13     2.0\n",
       "14     2.0\n",
       "15     2.0\n",
       "16     2.0\n",
       "17     2.0\n",
       "18     2.0\n",
       "19     2.0\n",
       "20     2.0\n",
       "21     2.0\n",
       "22     2.0\n",
       "23     2.0\n",
       "24     2.0\n",
       "25     2.0\n",
       "26     2.0\n",
       "27     2.0\n",
       "28     2.0\n",
       "29     2.0\n",
       "      ... \n",
       "120    1.0\n",
       "121    1.0\n",
       "122    1.0\n",
       "123    1.0\n",
       "124    1.0\n",
       "125    1.0\n",
       "126    1.0\n",
       "127    1.0\n",
       "128    1.0\n",
       "129    1.0\n",
       "130    1.0\n",
       "131    1.0\n",
       "132    1.0\n",
       "133    1.0\n",
       "134    1.0\n",
       "135    1.0\n",
       "136    1.0\n",
       "137    1.0\n",
       "138    1.0\n",
       "139    1.0\n",
       "140    1.0\n",
       "141    1.0\n",
       "142    1.0\n",
       "143    1.0\n",
       "144    1.0\n",
       "145    1.0\n",
       "146    1.0\n",
       "147    1.0\n",
       "148    1.0\n",
       "149    1.0\n",
       "Length: 150, dtype: float64"
      ]
     },
     "execution_count": 13,
     "metadata": {},
     "output_type": "execute_result"
    }
   ],
   "source": [
    "estimator.fit(iris[features], iris['class']).predict(iris[features])"
   ]
  },
  {
   "cell_type": "code",
   "execution_count": 25,
   "metadata": {},
   "outputs": [
    {
     "data": {
      "text/plain": [
       "0.98000000119209285"
      ]
     },
     "execution_count": 25,
     "metadata": {},
     "output_type": "execute_result"
    }
   ],
   "source": [
    "PYTHONHASHSEED=0\n",
    "numpy.random.seed(7)\n",
    "\n",
    "estimator.fit(X, y)\n",
    "estimator.score(X, y)"
   ]
  },
  {
   "cell_type": "code",
   "execution_count": 18,
   "metadata": {},
   "outputs": [
    {
     "name": "stdout",
     "output_type": "stream",
     "text": [
      "Epoch 1/10\n",
      "135/135 [==============================] - 0s - loss: 1.8843 - acc: 0.3481     \n",
      "Epoch 2/10\n",
      "135/135 [==============================] - 0s - loss: 1.7468 - acc: 0.3481     \n",
      "Epoch 3/10\n",
      "135/135 [==============================] - 0s - loss: 1.6389 - acc: 0.3481     \n",
      "Epoch 4/10\n",
      "135/135 [==============================] - 0s - loss: 1.5685 - acc: 0.2741     \n",
      "Epoch 5/10\n",
      "135/135 [==============================] - 0s - loss: 1.5191 - acc: 0.1852     \n",
      "Epoch 6/10\n",
      "135/135 [==============================] - 0s - loss: 1.4927 - acc: 0.1333     \n",
      "Epoch 7/10\n",
      "135/135 [==============================] - 0s - loss: 1.4693 - acc: 0.1333     \n",
      "Epoch 8/10\n",
      "135/135 [==============================] - 0s - loss: 1.4475 - acc: 0.1407     \n",
      "Epoch 9/10\n",
      "135/135 [==============================] - 0s - loss: 1.4234 - acc: 0.1333     \n",
      "Epoch 10/10\n",
      "135/135 [==============================] - 0s - loss: 1.4002 - acc: 0.1333     \n",
      "15/15 [==============================] - 0s\n",
      "Epoch 1/10\n",
      "135/135 [==============================] - 0s - loss: 2.4563 - acc: 0.3333     \n",
      "Epoch 2/10\n",
      "135/135 [==============================] - 0s - loss: 2.3695 - acc: 0.3333     \n",
      "Epoch 3/10\n",
      "135/135 [==============================] - 0s - loss: 2.2832 - acc: 0.3111     \n",
      "Epoch 4/10\n",
      "135/135 [==============================] - 0s - loss: 2.1969 - acc: 0.3111     \n",
      "Epoch 5/10\n",
      "135/135 [==============================] - 0s - loss: 2.1219 - acc: 0.2963     \n",
      "Epoch 6/10\n",
      "135/135 [==============================] - 0s - loss: 2.0402 - acc: 0.2741     \n",
      "Epoch 7/10\n",
      "135/135 [==============================] - 0s - loss: 1.9679 - acc: 0.2222     \n",
      "Epoch 8/10\n",
      "135/135 [==============================] - 0s - loss: 1.8981 - acc: 0.1481     \n",
      "Epoch 9/10\n",
      "135/135 [==============================] - 0s - loss: 1.8339 - acc: 0.1259     \n",
      "Epoch 10/10\n",
      "135/135 [==============================] - 0s - loss: 1.7731 - acc: 0.0963     \n",
      "15/15 [==============================] - 0s\n",
      "Epoch 1/10\n",
      "135/135 [==============================] - 0s - loss: 1.1746 - acc: 0.3407     \n",
      "Epoch 2/10\n",
      "135/135 [==============================] - 0s - loss: 1.1171 - acc: 0.3407     \n",
      "Epoch 3/10\n",
      "135/135 [==============================] - 0s - loss: 1.0709 - acc: 0.3630     \n",
      "Epoch 4/10\n",
      "135/135 [==============================] - 0s - loss: 1.0330 - acc: 0.4815     \n",
      "Epoch 5/10\n",
      "135/135 [==============================] - 0s - loss: 1.0106 - acc: 0.5630     \n",
      "Epoch 6/10\n",
      "135/135 [==============================] - 0s - loss: 0.9873 - acc: 0.6000     \n",
      "Epoch 7/10\n",
      "135/135 [==============================] - 0s - loss: 0.9689 - acc: 0.5407     \n",
      "Epoch 8/10\n",
      "135/135 [==============================] - 0s - loss: 0.9492 - acc: 0.5333     \n",
      "Epoch 9/10\n",
      "135/135 [==============================] - 0s - loss: 0.9297 - acc: 0.5333     \n",
      "Epoch 10/10\n",
      "135/135 [==============================] - 0s - loss: 0.9110 - acc: 0.5407     \n",
      "15/15 [==============================] - 0s\n",
      "Epoch 1/10\n",
      "135/135 [==============================] - 0s - loss: 2.5661 - acc: 0.0296     \n",
      "Epoch 2/10\n",
      "135/135 [==============================] - 0s - loss: 2.4629 - acc: 0.0444     \n",
      "Epoch 3/10\n",
      "135/135 [==============================] - 0s - loss: 2.3595 - acc: 0.1111     \n",
      "Epoch 4/10\n",
      "135/135 [==============================] - 0s - loss: 2.2627 - acc: 0.1926     \n",
      "Epoch 5/10\n",
      "135/135 [==============================] - 0s - loss: 2.1669 - acc: 0.2815     \n",
      "Epoch 6/10\n",
      "135/135 [==============================] - 0s - loss: 2.0796 - acc: 0.3111     \n",
      "Epoch 7/10\n",
      "135/135 [==============================] - 0s - loss: 1.9934 - acc: 0.3111     \n",
      "Epoch 8/10\n",
      "135/135 [==============================] - 0s - loss: 1.9127 - acc: 0.3185     \n",
      "Epoch 9/10\n",
      "135/135 [==============================] - 0s - loss: 1.8315 - acc: 0.3185     \n",
      "Epoch 10/10\n",
      "135/135 [==============================] - 0s - loss: 1.7575 - acc: 0.3185     \n",
      "15/15 [==============================] - 0s\n",
      "Epoch 1/10\n",
      "135/135 [==============================] - 0s - loss: 1.3508 - acc: 0.3259     \n",
      "Epoch 2/10\n",
      "135/135 [==============================] - 0s - loss: 1.2525 - acc: 0.3259     \n",
      "Epoch 3/10\n",
      "135/135 [==============================] - 0s - loss: 1.1673 - acc: 0.3259     \n",
      "Epoch 4/10\n",
      "135/135 [==============================] - 0s - loss: 1.1034 - acc: 0.3259     \n",
      "Epoch 5/10\n",
      "135/135 [==============================] - 0s - loss: 1.0529 - acc: 0.3333     \n",
      "Epoch 6/10\n",
      "135/135 [==============================] - 0s - loss: 1.0216 - acc: 0.3111     \n",
      "Epoch 7/10\n",
      "135/135 [==============================] - 0s - loss: 0.9955 - acc: 0.3037     \n",
      "Epoch 8/10\n",
      "135/135 [==============================] - 0s - loss: 0.9762 - acc: 0.3259     \n",
      "Epoch 9/10\n",
      "135/135 [==============================] - 0s - loss: 0.9579 - acc: 0.3481     \n",
      "Epoch 10/10\n",
      "135/135 [==============================] - 0s - loss: 0.9423 - acc: 0.3259     \n",
      "15/15 [==============================] - 0s\n",
      "Epoch 1/10\n",
      "135/135 [==============================] - 0s - loss: 1.3527 - acc: 0.0519     \n",
      "Epoch 2/10\n",
      "135/135 [==============================] - 0s - loss: 1.3231 - acc: 0.0741     \n",
      "Epoch 3/10\n",
      "135/135 [==============================] - 0s - loss: 1.2979 - acc: 0.0889     \n",
      "Epoch 4/10\n",
      "135/135 [==============================] - 0s - loss: 1.2766 - acc: 0.1037     \n",
      "Epoch 5/10\n",
      "135/135 [==============================] - 0s - loss: 1.2580 - acc: 0.1259     \n",
      "Epoch 6/10\n",
      "135/135 [==============================] - 0s - loss: 1.2429 - acc: 0.1407     \n",
      "Epoch 7/10\n",
      "135/135 [==============================] - 0s - loss: 1.2295 - acc: 0.1704     \n",
      "Epoch 8/10\n",
      "135/135 [==============================] - 0s - loss: 1.2178 - acc: 0.1778     \n",
      "Epoch 9/10\n",
      "135/135 [==============================] - 0s - loss: 1.2073 - acc: 0.1926     \n",
      "Epoch 10/10\n",
      "135/135 [==============================] - 0s - loss: 1.1982 - acc: 0.1926     \n",
      "15/15 [==============================] - 0s\n",
      "Epoch 1/10\n",
      "135/135 [==============================] - 0s - loss: 1.2639 - acc: 0.6444     \n",
      "Epoch 2/10\n",
      "135/135 [==============================] - 0s - loss: 1.2036 - acc: 0.6444     \n",
      "Epoch 3/10\n",
      "135/135 [==============================] - 0s - loss: 1.1418 - acc: 0.6444     \n",
      "Epoch 4/10\n",
      "135/135 [==============================] - 0s - loss: 1.0907 - acc: 0.6444     \n",
      "Epoch 5/10\n",
      "135/135 [==============================] - 0s - loss: 1.0403 - acc: 0.6444     \n",
      "Epoch 6/10\n",
      "135/135 [==============================] - 0s - loss: 1.0036 - acc: 0.6444     \n",
      "Epoch 7/10\n",
      "135/135 [==============================] - 0s - loss: 0.9710 - acc: 0.6444     \n",
      "Epoch 8/10\n",
      "135/135 [==============================] - 0s - loss: 0.9467 - acc: 0.6667     \n",
      "Epoch 9/10\n",
      "135/135 [==============================] - 0s - loss: 0.9283 - acc: 0.6741     \n",
      "Epoch 10/10\n",
      "135/135 [==============================] - 0s - loss: 0.9135 - acc: 0.6889     \n",
      "15/15 [==============================] - 0s\n",
      "Epoch 1/10\n",
      "135/135 [==============================] - 0s - loss: 1.7147 - acc: 0.3185     \n",
      "Epoch 2/10\n",
      "135/135 [==============================] - 0s - loss: 1.6186 - acc: 0.3185     \n",
      "Epoch 3/10\n",
      "135/135 [==============================] - 0s - loss: 1.5233 - acc: 0.3185     \n",
      "Epoch 4/10\n",
      "135/135 [==============================] - 0s - loss: 1.4328 - acc: 0.3259     \n",
      "Epoch 5/10\n",
      "135/135 [==============================] - 0s - loss: 1.3546 - acc: 0.3333     \n",
      "Epoch 6/10\n",
      "135/135 [==============================] - 0s - loss: 1.2787 - acc: 0.3556     \n",
      "Epoch 7/10\n",
      "135/135 [==============================] - 0s - loss: 1.2122 - acc: 0.4444     \n",
      "Epoch 8/10\n",
      "135/135 [==============================] - 0s - loss: 1.1517 - acc: 0.4667     \n",
      "Epoch 9/10\n",
      "135/135 [==============================] - 0s - loss: 1.0975 - acc: 0.4889     \n",
      "Epoch 10/10\n",
      "135/135 [==============================] - 0s - loss: 1.0503 - acc: 0.5407     \n",
      "15/15 [==============================] - 0s\n",
      "Epoch 1/10\n",
      "135/135 [==============================] - 0s - loss: 1.7229 - acc: 0.3259     \n",
      "Epoch 2/10\n",
      "135/135 [==============================] - 0s - loss: 1.6500 - acc: 0.3259     \n",
      "Epoch 3/10\n",
      "135/135 [==============================] - 0s - loss: 1.5709 - acc: 0.3259     \n",
      "Epoch 4/10\n",
      "135/135 [==============================] - 0s - loss: 1.4963 - acc: 0.3333     \n",
      "Epoch 5/10\n",
      "135/135 [==============================] - 0s - loss: 1.4176 - acc: 0.3407     \n",
      "Epoch 6/10\n",
      "135/135 [==============================] - 0s - loss: 1.3494 - acc: 0.3778     \n",
      "Epoch 7/10\n"
     ]
    },
    {
     "name": "stdout",
     "output_type": "stream",
     "text": [
      "135/135 [==============================] - 0s - loss: 1.2810 - acc: 0.5259     \n",
      "Epoch 8/10\n",
      "135/135 [==============================] - 0s - loss: 1.2189 - acc: 0.6148     \n",
      "Epoch 9/10\n",
      "135/135 [==============================] - 0s - loss: 1.1612 - acc: 0.6519     \n",
      "Epoch 10/10\n",
      "135/135 [==============================] - 0s - loss: 1.1088 - acc: 0.6519     \n",
      "15/15 [==============================] - 0s\n",
      "Epoch 1/10\n",
      "135/135 [==============================] - 0s - loss: 2.0346 - acc: 0.3111     \n",
      "Epoch 2/10\n",
      "135/135 [==============================] - 0s - loss: 1.9714 - acc: 0.3111     \n",
      "Epoch 3/10\n",
      "135/135 [==============================] - 0s - loss: 1.9063 - acc: 0.3111     \n",
      "Epoch 4/10\n",
      "135/135 [==============================] - 0s - loss: 1.8422 - acc: 0.3111     \n",
      "Epoch 5/10\n",
      "135/135 [==============================] - 0s - loss: 1.7839 - acc: 0.3111     \n",
      "Epoch 6/10\n",
      "135/135 [==============================] - 0s - loss: 1.7251 - acc: 0.3111     \n",
      "Epoch 7/10\n",
      "135/135 [==============================] - 0s - loss: 1.6709 - acc: 0.3111     \n",
      "Epoch 8/10\n",
      "135/135 [==============================] - 0s - loss: 1.6199 - acc: 0.3111     \n",
      "Epoch 9/10\n",
      "135/135 [==============================] - 0s - loss: 1.5693 - acc: 0.3111     \n",
      "Epoch 10/10\n",
      "135/135 [==============================] - 0s - loss: 1.5210 - acc: 0.3111     \n",
      "15/15 [==============================] - 0s\n"
     ]
    },
    {
     "data": {
      "text/plain": [
       "array([ 1.45057869,  2.00121045,  0.95330632,  1.41187358,  0.92541403,\n",
       "        1.13832116,  0.89555472,  1.02811551,  0.87241393,  1.16269815])"
      ]
     },
     "execution_count": 18,
     "metadata": {},
     "output_type": "execute_result"
    }
   ],
   "source": [
    "kfold = KFold(n_splits=10, shuffle=True)\n",
    "scores = cross_val_score(estimator, iris[features], iris['class'], cv=kfold)\n",
    "scores"
   ]
  },
  {
   "cell_type": "code",
   "execution_count": 19,
   "metadata": {},
   "outputs": [
    {
     "data": {
      "text/plain": [
       "1.1839486539363862"
      ]
     },
     "execution_count": 19,
     "metadata": {},
     "output_type": "execute_result"
    }
   ],
   "source": [
    "np.mean(scores)"
   ]
  },
  {
   "cell_type": "markdown",
   "metadata": {},
   "source": [
    "Now that all the data is in a ``DataFrame``, we can use the ``feature_importances_`` attribute of a gradient boosting classifier. Note that in Ibex, this is a ``pandas.Series``."
   ]
  },
  {
   "cell_type": "code",
   "execution_count": 3,
   "metadata": {
    "ExecuteTime": {
     "end_time": "2017-07-27T10:48:43.699892Z",
     "start_time": "2017-07-27T10:48:43.532280Z"
    }
   },
   "outputs": [
    {
     "data": {
      "text/plain": [
       "sepal length (cm)    0.078549\n",
       "sepal width (cm)     0.104726\n",
       "petal length (cm)    0.295431\n",
       "petal width (cm)     0.447961\n",
       "dtype: float64"
      ]
     },
     "execution_count": 3,
     "metadata": {},
     "output_type": "execute_result"
    }
   ],
   "source": [
    "pd_ensemble.GradientBoostingClassifier().fit(iris[features], iris['class']).feature_importances_"
   ]
  },
  {
   "cell_type": "markdown",
   "metadata": {},
   "source": [
    "Since the result is a ``Series``, we can use its ``plot`` method directly, and it will handle all labels for us."
   ]
  },
  {
   "cell_type": "code",
   "execution_count": 4,
   "metadata": {
    "ExecuteTime": {
     "end_time": "2017-07-27T11:06:02.768057Z",
     "start_time": "2017-07-27T11:06:02.425750Z"
    }
   },
   "outputs": [
    {
     "data": {
      "image/png": "[encoded data removed]",
      "text/plain": [
       "<matplotlib.figure.Figure at 0x10d7b0198>"
      ]
     },
     "metadata": {},
     "output_type": "display_data"
    }
   ],
   "source": [
    "importances = pd_ensemble.GradientBoostingClassifier().fit(iris[features], iris['class']).feature_importances_\n",
    "(importances / importances.max()).plot(kind='barh', color='0.75');\n",
    "xlabel('feature importance');\n",
    "ylabel('features');\n",
    "figtext(\n",
    "    0, \n",
    "    -0.1, \n",
    "    'Relative feature importances for the Iris dataset, using gradient boosting classification');"
   ]
  }
 ],
 "metadata": {
  "ibex_test_level": 1,
  "kernelspec": {
   "display_name": "Python 3",
   "language": "python",
   "name": "python3"
  },
  "language_info": {
   "codemirror_mode": {
    "name": "ipython",
    "version": 3
   },
   "file_extension": ".py",
   "mimetype": "text/x-python",
   "name": "python",
   "nbconvert_exporter": "python",
   "pygments_lexer": "ipython3",
   "version": "3.6.2"
  }
 },
 "nbformat": 4,
 "nbformat_minor": 2
}
