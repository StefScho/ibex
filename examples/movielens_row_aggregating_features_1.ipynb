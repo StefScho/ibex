{
 "cells": [
  {
   "cell_type": "markdown",
   "metadata": {
    "collapsed": true
   },
   "source": [
    "# Row-Aggregating Features In The Movielens Dataset 1"
   ]
  },
  {
   "cell_type": "markdown",
   "metadata": {
    "collapsed": true
   },
   "source": [
    "This example illustrates using `pandas`-munging capabilities in estimators building features that draw from several rows. We will use a single table from the [Movielens dataset](https://grouplens.org/datasets/movielens/) (F. Maxwell Harper and Joseph A. Konstan. 2015. The MovieLens Datasets: History and Context. ACM Transactions on Interactive Intelligent Systems (TiiS))."
   ]
  },
  {
   "cell_type": "markdown",
   "metadata": {},
   "source": [
    "## Loading The Data"
   ]
  },
  {
   "cell_type": "markdown",
   "metadata": {},
   "source": [
    "In this example, we'll only use the dataset table describing the ratings themselves. I.e., each row is an instance of a single rating given by a specific user to a specific movie."
   ]
  },
  {
   "cell_type": "code",
   "execution_count": 1,
   "metadata": {},
   "outputs": [
    {
     "name": "stdout",
     "output_type": "stream",
     "text": [
      "Populating the interactive namespace from numpy and matplotlib\n"
     ]
    }
   ],
   "source": [
    "import os\n",
    "\n",
    "from sklearn import base\n",
    "import pandas as pd\n",
    "import seaborn as sns\n",
    "sns.set_style('whitegrid')\n",
    "sns.despine()\n",
    "\n",
    "import ibex\n",
    "from ibex.sklearn import model_selection as pd_model_selection\n",
    "from ibex.sklearn import linear_model as pd_linear_model\n",
    "from ibex.sklearn import ensemble as pd_ensemble\n",
    "\n",
    "%pylab inline"
   ]
  },
  {
   "cell_type": "code",
   "execution_count": 2,
   "metadata": {},
   "outputs": [
    {
     "data": {
      "text/html": [
       "<div>\n",
       "<table border=\"1\" class=\"dataframe\">\n",
       "  <thead>\n",
       "    <tr style=\"text-align: right;\">\n",
       "      <th></th>\n",
       "      <th>user_id</th>\n",
       "      <th>item_id</th>\n",
       "      <th>rating</th>\n",
       "    </tr>\n",
       "  </thead>\n",
       "  <tbody>\n",
       "    <tr>\n",
       "      <th>0</th>\n",
       "      <td>196</td>\n",
       "      <td>242</td>\n",
       "      <td>3</td>\n",
       "    </tr>\n",
       "    <tr>\n",
       "      <th>1</th>\n",
       "      <td>186</td>\n",
       "      <td>302</td>\n",
       "      <td>3</td>\n",
       "    </tr>\n",
       "    <tr>\n",
       "      <th>2</th>\n",
       "      <td>22</td>\n",
       "      <td>377</td>\n",
       "      <td>1</td>\n",
       "    </tr>\n",
       "    <tr>\n",
       "      <th>3</th>\n",
       "      <td>244</td>\n",
       "      <td>51</td>\n",
       "      <td>2</td>\n",
       "    </tr>\n",
       "    <tr>\n",
       "      <th>4</th>\n",
       "      <td>166</td>\n",
       "      <td>346</td>\n",
       "      <td>1</td>\n",
       "    </tr>\n",
       "  </tbody>\n",
       "</table>\n",
       "</div>"
      ],
      "text/plain": [
       "   user_id  item_id  rating\n",
       "0      196      242       3\n",
       "1      186      302       3\n",
       "2       22      377       1\n",
       "3      244       51       2\n",
       "4      166      346       1"
      ]
     },
     "execution_count": 2,
     "metadata": {},
     "output_type": "execute_result"
    }
   ],
   "source": [
    "ratings = pd.read_csv(\n",
    "    'movielens_data/ml-100k/u.data', \n",
    "    sep='\\t', \n",
    "    header=None, \n",
    "    names=['user_id', 'item_id', 'rating', 'timestamp'])\n",
    "features = ['user_id', 'item_id']\n",
    "ratings[features + ['rating']].head()"
   ]
  },
  {
   "cell_type": "markdown",
   "metadata": {},
   "source": [
    "## A Failed Attempt"
   ]
  },
  {
   "cell_type": "markdown",
   "metadata": {},
   "source": [
    "The subset of the data we've loaded contains very little information - we know nothing about the users or the movies. Perhaps the movie rating mean is a useful feature."
   ]
  },
  {
   "cell_type": "markdown",
   "metadata": {},
   "source": [
    "### Wrong Way To Do Cross Validation"
   ]
  },
  {
   "cell_type": "markdown",
   "metadata": {},
   "source": [
    "Suppose we build a new `DataFrame` composed of the mean rating of the dataset."
   ]
  },
  {
   "cell_type": "code",
   "execution_count": 5,
   "metadata": {
    "collapsed": true
   },
   "outputs": [],
   "source": [
    "mean_rating = pd.DataFrame({'mean': ratings.rating.mean() * np.ones_like(ratings.rating)})"
   ]
  },
  {
   "cell_type": "markdown",
   "metadata": {},
   "source": [
    "We now check the performance of predicting the rating using the mean rating."
   ]
  },
  {
   "cell_type": "code",
   "execution_count": 7,
   "metadata": {},
   "outputs": [
    {
     "data": {
      "image/png": "[encoded data removed]",
      "text/plain": [
       "<matplotlib.figure.Figure at 0x7f9017a1c748>"
      ]
     },
     "metadata": {},
     "output_type": "display_data"
    }
   ],
   "source": [
    "prd = pd_ensemble.RandomForestRegressor()\n",
    "hist(\n",
    "    pd_model_selection.cross_val_score(prd, mean_rating, ratings.rating, cv=100),\n",
    "    color='grey');\n",
    "xlabel('CV Score')\n",
    "ylabel('Num Occurrences')\n",
    "figtext(\n",
    "    0, \n",
    "    -0.1, \n",
    "    'Histogram of cross-validated scores');"
   ]
  },
  {
   "cell_type": "markdown",
   "metadata": {},
   "source": [
    "The results don't look good. Worse, though, they are not even correct. Since the mean was taken over the entire dataset, the features in each fold \"peeked\" at the holdout data."
   ]
  },
  {
   "cell_type": "markdown",
   "metadata": {},
   "source": [
    "### Correct Way To Do Cross Validation"
   ]
  },
  {
   "cell_type": "markdown",
   "metadata": {},
   "source": [
    "The correct way of using the mean, is through a `Transformer` object, which, for each train set it gets, computes the mean and remembers it; when asked to predict, it emits the mean of the train data."
   ]
  },
  {
   "cell_type": "code",
   "execution_count": 3,
   "metadata": {
    "collapsed": true
   },
   "outputs": [],
   "source": [
    "class ScoresAggregator(base.BaseEstimator, base.TransformerMixin, ibex.FrameMixin):\n",
    "    def fit(self, X, y):\n",
    "        self._mean = y.mean()\n",
    "        return self\n",
    "        \n",
    "    def transform(self, X):\n",
    "        return pd.DataFrame({'mean': self._mean}, index=X.index)"
   ]
  },
  {
   "cell_type": "code",
   "execution_count": 21,
   "metadata": {},
   "outputs": [
    {
     "data": {
      "image/png": "[encoded data removed]",
      "text/plain": [
       "<matplotlib.figure.Figure at 0x7f236aa4c908>"
      ]
     },
     "metadata": {},
     "output_type": "display_data"
    }
   ],
   "source": [
    "prd = ScoresAggregator() | pd_ensemble.RandomForestRegressor()\n",
    "hist(\n",
    "    pd_model_selection.cross_val_score(prd, ratings[features], ratings.rating, cv=100),\n",
    "    color='grey');\n",
    "xlabel('CV Score')\n",
    "ylabel('Num Occurrences')\n",
    "figtext(\n",
    "    0, \n",
    "    -0.1, \n",
    "    'Histogram of cross-validated scores');"
   ]
  },
  {
   "cell_type": "markdown",
   "metadata": {},
   "source": [
    "Unsuprisingly, the results are even worse than before. Methodically, this is the correct way of building the feature without peeking, and so the CV result should intuitively be weaker."
   ]
  },
  {
   "cell_type": "markdown",
   "metadata": {},
   "source": [
    "## Exploratory Analysis Using Pandas"
   ]
  },
  {
   "cell_type": "markdown",
   "metadata": {},
   "source": [
    "While the subset of the data we've loaded contains very little information, it stands to reason that there still is some information here. For example: \n",
    "\n",
    "* A user who rated movies highly, will tend to rate a new movie highly\n",
    "\n",
    "* A movie which was rated poorly by some users, will tend to be rated low by a new user.\n",
    "\n",
    "We'll use `pandas` to check indications for this."
   ]
  },
  {
   "cell_type": "markdown",
   "metadata": {},
   "source": [
    "First, we calculate the mean standard deviation *within each user's ratings*."
   ]
  },
  {
   "cell_type": "code",
   "execution_count": 11,
   "metadata": {
    "collapsed": true
   },
   "outputs": [],
   "source": [
    "by_user_std = ratings.rating.groupby(ratings.user_id).std()"
   ]
  },
  {
   "cell_type": "markdown",
   "metadata": {},
   "source": [
    "Now we compare this to the overall standard deviation."
   ]
  },
  {
   "cell_type": "code",
   "execution_count": 10,
   "metadata": {},
   "outputs": [
    {
     "data": {
      "image/png": "[encoded data removed]",
      "text/plain": [
       "<matplotlib.figure.Figure at 0x7f236b24e0b8>"
      ]
     },
     "metadata": {},
     "output_type": "display_data"
    }
   ],
   "source": [
    "axvline(\n",
    "    ratings.rating.std(), \n",
    "    linewidth=2,\n",
    "    linestyle='dashed',\n",
    "    color='black');\n",
    "annotate(\n",
    "    'mean std.',\n",
    "    xy=(1.01 * ratings.rating.std(), int(max(hist(by_user_std)[0]))));\n",
    "hist(\n",
    "    by_user_std,\n",
    "    color='darkgrey');\n",
    "xlabel('std.')\n",
    "ylabel('Num Occurrences')\n",
    "figtext(\n",
    "    0, \n",
    "    -0.1, \n",
    "    'The overall mean standard deviation is (somewhat) larger than the average standard deviation within each group,\\n' + \n",
    "    'indicating that rankings within a group might be predictive of one another.');"
   ]
  },
  {
   "cell_type": "markdown",
   "metadata": {},
   "source": [
    "The overall standard deviation is somewhat higher than the average per-user standard deviation, which is some indication that known ratings by a user will be an indication for further ratings by the user."
   ]
  },
  {
   "cell_type": "code",
   "execution_count": 15,
   "metadata": {
    "collapsed": true
   },
   "outputs": [],
   "source": [
    "by_item_std = ratings.rating.groupby(ratings.item_id).std().dropna()"
   ]
  },
  {
   "cell_type": "code",
   "execution_count": 17,
   "metadata": {},
   "outputs": [
    {
     "data": {
      "image/png": "[encoded data removed]",
      "text/plain": [
       "<matplotlib.figure.Figure at 0x7f236b211400>"
      ]
     },
     "metadata": {},
     "output_type": "display_data"
    }
   ],
   "source": [
    "axvline(\n",
    "    ratings.rating.std(), \n",
    "    linewidth=2,\n",
    "    linestyle='dashed',\n",
    "    color='black');\n",
    "annotate(\n",
    "    'mean std.',\n",
    "    xy=(1.01 * ratings.rating.std(), int(max(hist(by_item_std)[0]))));\n",
    "hist(\n",
    "    by_item_std,\n",
    "    color='darkgrey');\n",
    "xlabel('std.')\n",
    "ylabel('Num Occurrences')\n",
    "figtext(\n",
    "    0, \n",
    "    -0.1, \n",
    "    'The overall mean standard deviation is (somewhat) larger than the average standard deviation within each group,\\n' + \n",
    "    'indicating that rankings within a group might be predictive of one another.');"
   ]
  },
  {
   "cell_type": "markdown",
   "metadata": {},
   "source": [
    "Again, there is some (weaker) indication that per-item scores are useful features.  "
   ]
  },
  {
   "cell_type": "markdown",
   "metadata": {},
   "source": [
    "## Building A Pandas-Munging Estimator"
   ]
  },
  {
   "cell_type": "markdown",
   "metadata": {},
   "source": [
    "We'll now use Pandas to build a feature building these features. \n",
    "\n",
    "* For each movie, we'll store the mean score & number of occurrences.\n",
    "\n",
    "* For each user, we'll store the mean score & number of occurrences."
   ]
  },
  {
   "cell_type": "code",
   "execution_count": 13,
   "metadata": {},
   "outputs": [
    {
     "data": {
      "image/png": "[encoded data removed]",
      "text/plain": [
       "<matplotlib.figure.Figure at 0x7fa0687f9128>"
      ]
     },
     "metadata": {},
     "output_type": "display_data"
    }
   ],
   "source": [
    "class ScoresAggregatorsAggregator(base.BaseEstimator, base.TransformerMixin, ibex.FrameMixin):\n",
    "    def fit(self, X, y):\n",
    "        self._mean = y.mean()\n",
    "        self._user_id_stats = y.groupby(X.user_id).agg({'user_id_mean': np.mean, 'user_id_count': 'count'})\n",
    "        self._item_id_stats = y.groupby(X.user_id).agg({'item_id_mean': np.mean, 'item_id_count': 'count'})\n",
    "        return self\n",
    "        \n",
    "    def transform(self, X):\n",
    "        user_ratings = pd.merge(\n",
    "            X[['user_id']],\n",
    "            self._user_id_stats,\n",
    "            left_on='user_id',\n",
    "            right_index=True,\n",
    "            how='left')[['user_id_mean', 'user_id_count']]\n",
    "        user_ratings.user_id_mean = user_ratings.user_id_mean.fillna(self._mean)\n",
    "        return user_ratings"
   ]
  },
  {
   "cell_type": "code",
   "execution_count": 14,
   "metadata": {
    "collapsed": true
   },
   "outputs": [],
   "source": [
    "prd = ScoresAggregator() | pd_ensemble.RandomForestRegressor()\n",
    "hist(\n",
    "    pd_model_selection.cross_val_score(prd, ratings[features], ratings.rating, cv=100),\n",
    "    color='grey');\n",
    "xlabel('CV Score')\n",
    "ylabel('Num Occurrences')\n",
    "figtext(\n",
    "    0, \n",
    "    -0.1, \n",
    "    'Histogram of cross-validated scores');"
   ]
  },
  {
   "cell_type": "markdown",
   "metadata": {},
   "source": [
    "The CV histogram indicates that the results are now positive."
   ]
  }
 ],
 "metadata": {
  "ibex_test_level": "2",
  "kernelspec": {
   "display_name": "Python 3",
   "language": "python",
   "name": "python3"
  },
  "language_info": {
   "codemirror_mode": {
    "name": "ipython",
    "version": 3
   },
   "file_extension": ".py",
   "mimetype": "text/x-python",
   "name": "python",
   "nbconvert_exporter": "python",
   "pygments_lexer": "ipython3",
   "version": "3.5.2"
  }
 },
 "nbformat": 4,
 "nbformat_minor": 2
}
