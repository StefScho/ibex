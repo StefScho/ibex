{
 "cells": [
  {
   "cell_type": "markdown",
   "metadata": {},
   "source": [
    "# Feature Transformations In The Iris Dataset"
   ]
  },
  {
   "cell_type": "markdown",
   "metadata": {},
   "source": [
    "This notebook illustrates finding transforming features in the Iris dataset.\n",
    "\n",
    "The main point it shows is how Ibex creates ``pandas.DataFrame`` structures with appropriate column headings."
   ]
  },
  {
   "cell_type": "markdown",
   "metadata": {},
   "source": [
    "## Loading The Data"
   ]
  },
  {
   "cell_type": "markdown",
   "metadata": {},
   "source": [
    "First we load the dataset into a ``pandas.DataFrame``."
   ]
  },
  {
   "cell_type": "code",
   "execution_count": 1,
   "metadata": {
    "collapsed": true
   },
   "outputs": [],
   "source": [
    "import pandas as pd                                                          \n",
    "import numpy as np                                                           \n",
    "from ibex.sklearn import datasets                                            \n",
    "from ibex.sklearn.decomposition import PCA as PDPCA                          \n",
    "from ibex.sklearn.feature_selection import SelectKBest as PDSelectKBest      "
   ]
  },
  {
   "cell_type": "code",
   "execution_count": 2,
   "metadata": {
    "collapsed": true
   },
   "outputs": [],
   "source": [
    "iris = datasets.load_iris()                                                  \n",
    "features = iris['feature_names']                                             \n",
    "iris = pd.DataFrame(                                                         \n",
    "    np.c_[iris['data'], iris['target']],                                     \n",
    "    columns=features+['class'])                                              "
   ]
  },
  {
   "cell_type": "markdown",
   "metadata": {},
   "source": [
    "## Transforming Features"
   ]
  },
  {
   "cell_type": "markdown",
   "metadata": {},
   "source": [
    "Now that the data is in a ``DataFrame``, we can transform the features. Notice how, in the resulting ``DataFrame``, the column headers indicate the meaning of the (numerical) features."
   ]
  },
  {
   "cell_type": "code",
   "execution_count": 3,
   "metadata": {},
   "outputs": [
    {
     "data": {
      "text/html": [
       "<div>\n",
       "<table border=\"1\" class=\"dataframe\">\n",
       "  <thead>\n",
       "    <tr>\n",
       "      <th></th>\n",
       "      <th colspan=\"2\" halign=\"left\">pca</th>\n",
       "      <th>selectkbest</th>\n",
       "    </tr>\n",
       "    <tr>\n",
       "      <th></th>\n",
       "      <th>comp_0</th>\n",
       "      <th>comp_1</th>\n",
       "      <th>petal length (cm)</th>\n",
       "    </tr>\n",
       "  </thead>\n",
       "  <tbody>\n",
       "    <tr>\n",
       "      <th>0</th>\n",
       "      <td>-2.684207</td>\n",
       "      <td>0.326607</td>\n",
       "      <td>1.4</td>\n",
       "    </tr>\n",
       "    <tr>\n",
       "      <th>1</th>\n",
       "      <td>-2.715391</td>\n",
       "      <td>-0.169557</td>\n",
       "      <td>1.4</td>\n",
       "    </tr>\n",
       "    <tr>\n",
       "      <th>2</th>\n",
       "      <td>-2.889820</td>\n",
       "      <td>-0.137346</td>\n",
       "      <td>1.3</td>\n",
       "    </tr>\n",
       "    <tr>\n",
       "      <th>3</th>\n",
       "      <td>-2.746437</td>\n",
       "      <td>-0.311124</td>\n",
       "      <td>1.5</td>\n",
       "    </tr>\n",
       "    <tr>\n",
       "      <th>4</th>\n",
       "      <td>-2.728593</td>\n",
       "      <td>0.333925</td>\n",
       "      <td>1.4</td>\n",
       "    </tr>\n",
       "  </tbody>\n",
       "</table>\n",
       "</div>"
      ],
      "text/plain": [
       "        pca                 selectkbest\n",
       "     comp_0    comp_1 petal length (cm)\n",
       "0 -2.684207  0.326607               1.4\n",
       "1 -2.715391 -0.169557               1.4\n",
       "2 -2.889820 -0.137346               1.3\n",
       "3 -2.746437 -0.311124               1.5\n",
       "4 -2.728593  0.333925               1.4"
      ]
     },
     "execution_count": 3,
     "metadata": {},
     "output_type": "execute_result"
    }
   ],
   "source": [
    "trn = PDPCA(n_components=2) + PDSelectKBest(k=1)                             \n",
    "trn.fit(iris[features], iris['class']).transform(iris[features]).head()"
   ]
  }
 ],
 "metadata": {
  "ibex_test_level": "1",
  "kernelspec": {
   "display_name": "Python 3",
   "language": "python",
   "name": "python3"
  },
  "language_info": {
   "codemirror_mode": {
    "name": "ipython",
    "version": 3
   },
   "file_extension": ".py",
   "mimetype": "text/x-python",
   "name": "python",
   "nbconvert_exporter": "python",
   "pygments_lexer": "ipython3",
   "version": "3.5.2"
  }
 },
 "nbformat": 4,
 "nbformat_minor": 2
}
