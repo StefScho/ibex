{
 "cells": [
  {
   "cell_type": "code",
   "execution_count": 1,
   "metadata": {
    "ExecuteTime": {
     "end_time": "2017-07-15T07:49:09.483799Z",
     "start_time": "2017-07-15T07:49:09.426322Z"
    },
    "collapsed": true
   },
   "outputs": [],
   "source": [
    "from sklearn import linear_model"
   ]
  },
  {
   "cell_type": "code",
   "execution_count": 49,
   "metadata": {
    "ExecuteTime": {
     "end_time": "2017-07-15T09:53:14.763587Z",
     "start_time": "2017-07-15T09:53:14.761262Z"
    },
    "collapsed": true
   },
   "outputs": [],
   "source": [
    "import numpy as np"
   ]
  },
  {
   "cell_type": "code",
   "execution_count": 57,
   "metadata": {
    "ExecuteTime": {
     "end_time": "2017-07-15T09:55:29.281659Z",
     "start_time": "2017-07-15T09:55:29.247752Z"
    }
   },
   "outputs": [
    {
     "name": "stdout",
     "output_type": "stream",
     "text": [
      "here\n"
     ]
    },
    {
     "data": {
      "text/plain": [
       "LinearRegression(copy_X=True, fit_intercept=True, n_jobs=1, normalize=False)"
      ]
     },
     "execution_count": 57,
     "metadata": {},
     "output_type": "execute_result"
    }
   ],
   "source": [
    "def delegate(method):\n",
    "    def wrapped(self, X, y, *args, **kwargs):\n",
    "        print('here')\n",
    "        return method(self, X, y, *args, **kwargs)\n",
    "    return wrapped\n",
    "\n",
    "def sub(cls):\n",
    "    class Foo(cls):\n",
    "        pass\n",
    "    \n",
    "    Foo.__name__ = cls.__name__\n",
    "    Foo.__doc__ = cls.__doc__\n",
    "    setattr(\n",
    "        Foo,\n",
    "        'fit',\n",
    "        delegate(getattr(cls, 'fit')))\n",
    "    \n",
    "    return Foo\n",
    "\n",
    "sub(linear_model.LinearRegression)().fit(np.array([[1]]), np.array([2]))"
   ]
  },
  {
   "cell_type": "code",
   "execution_count": 37,
   "metadata": {
    "ExecuteTime": {
     "end_time": "2017-07-15T09:49:22.158445Z",
     "start_time": "2017-07-15T09:49:22.153677Z"
    }
   },
   "outputs": [
    {
     "data": {
      "text/plain": [
       "__main__.sub.<locals>.Foo"
      ]
     },
     "execution_count": 37,
     "metadata": {},
     "output_type": "execute_result"
    }
   ],
   "source": [
    "sub(linear_model.LinearRegression)"
   ]
  },
  {
   "cell_type": "code",
   "execution_count": 33,
   "metadata": {
    "ExecuteTime": {
     "end_time": "2017-07-15T08:46:44.021393Z",
     "start_time": "2017-07-15T08:46:44.012615Z"
    }
   },
   "outputs": [
    {
     "data": {
      "text/plain": [
       "sklearn.linear_model.base.LinearRegression"
      ]
     },
     "execution_count": 33,
     "metadata": {},
     "output_type": "execute_result"
    }
   ],
   "source": [
    "linear_model.LinearRegression"
   ]
  },
  {
   "cell_type": "code",
   "execution_count": null,
   "metadata": {
    "collapsed": true
   },
   "outputs": [],
   "source": []
  }
 ],
 "metadata": {
  "kernelspec": {
   "display_name": "Python 3",
   "language": "python",
   "name": "python3"
  },
  "language_info": {
   "codemirror_mode": {
    "name": "ipython",
    "version": 3
   },
   "file_extension": ".py",
   "mimetype": "text/x-python",
   "name": "python",
   "nbconvert_exporter": "python",
   "pygments_lexer": "ipython3",
   "version": "3.5.2"
  }
 },
 "nbformat": 4,
 "nbformat_minor": 2
}
